{
 "cells": [
  {
   "cell_type": "code",
   "execution_count": null,
   "metadata": {},
   "outputs": [],
   "source": [
    "import pandas as pd\n",
    "import numpy as np"
   ]
  },
  {
   "cell_type": "code",
   "execution_count": 42,
   "metadata": {},
   "outputs": [],
   "source": [
    "caminho_dados = \"C:\\\\Users\\\\tiberio\\\\Desktop\\\\projeto sx\\\\microdados_enem_2020\\\\DADOS\\\\\"\n",
    "caminho_metadados = \"C:\\\\Users\\\\tiberio\\\\Desktop\\\\projeto sx\\\\microdados_enem_2020\\\\DICIONÁRIO\\\\\""
   ]
  },
  {
   "cell_type": "code",
   "execution_count": null,
   "metadata": {},
   "outputs": [],
   "source": []
  },
  {
   "cell_type": "code",
   "execution_count": null,
   "metadata": {},
   "outputs": [],
   "source": [
    "dados_raw = pd.read_csv(caminho_dados + \"MICRODADOS_ENEM_2020.csv\", sep=\";\", encoding='latin-1')\n",
    "print(dados_raw)"
   ]
  },
  {
   "cell_type": "code",
   "execution_count": 61,
   "metadata": {},
   "outputs": [
    {
     "name": "stdout",
     "output_type": "stream",
     "text": [
      "                                      NOME DA VARIÁVEL              Descrição  \\\n",
      "0                                                  NaN                    NaN   \n",
      "1                                DADOS DO PARTICIPANTE                    NaN   \n",
      "2                                         NU_INSCRICAO  Número de inscrição1    \n",
      "3                                               NU_ANO            Ano do Enem   \n",
      "4                                      TP_FAIXA_ETARIA          Faixa etária2   \n",
      "..                                                 ...                    ...   \n",
      "355  3. Foi considerado treineiro o inscrito que nã...                    NaN   \n",
      "356  4. As 45 primeiras posições deste campo são re...                    NaN   \n",
      "357  5. As 45 primeiras posições deste campo são re...                    NaN   \n",
      "358  6. As 45 primeiras posições deste campo são re...                    NaN   \n",
      "359  7. As 50 primeiras posições deste campo são re...                    NaN   \n",
      "\n",
      "    Variáveis Categóricas        Unnamed: 3  Tamanho       Tipo  \n",
      "0               Categoria         Descrição       NaN       NaN  \n",
      "1                     NaN               NaN       NaN       NaN  \n",
      "2                     NaN               NaN      12.0  Numérica  \n",
      "3                     NaN               NaN       4.0  Numérica  \n",
      "4                       1  Menor de 17 anos       2.0  Numérica  \n",
      "..                    ...               ...       ...       ...  \n",
      "355                   NaN               NaN       NaN       NaN  \n",
      "356                   NaN               NaN       NaN       NaN  \n",
      "357                   NaN               NaN       NaN       NaN  \n",
      "358                   NaN               NaN       NaN       NaN  \n",
      "359                   NaN               NaN       NaN       NaN  \n",
      "\n",
      "[360 rows x 6 columns]\n"
     ]
    }
   ],
   "source": [
    "metadados_raw = pd.read_excel(caminho_metadados + \"Dicionário_Microdados_Enem_2020.xlsx\", skiprows=[0,1])\n",
    "metadados_raw = pd.DataFrame(metadados_raw)\n",
    "print(metadados_raw)"
   ]
  },
  {
   "cell_type": "code",
   "execution_count": 63,
   "metadata": {},
   "outputs": [
    {
     "data": {
      "text/html": [
       "<div>\n",
       "<style scoped>\n",
       "    .dataframe tbody tr th:only-of-type {\n",
       "        vertical-align: middle;\n",
       "    }\n",
       "\n",
       "    .dataframe tbody tr th {\n",
       "        vertical-align: top;\n",
       "    }\n",
       "\n",
       "    .dataframe thead th {\n",
       "        text-align: right;\n",
       "    }\n",
       "</style>\n",
       "<table border=\"1\" class=\"dataframe\">\n",
       "  <thead>\n",
       "    <tr style=\"text-align: right;\">\n",
       "      <th></th>\n",
       "      <th>NOME DA VARIÁVEL</th>\n",
       "      <th>Tipo</th>\n",
       "    </tr>\n",
       "  </thead>\n",
       "  <tbody>\n",
       "    <tr>\n",
       "      <th>0</th>\n",
       "      <td>NaN</td>\n",
       "      <td>NaN</td>\n",
       "    </tr>\n",
       "    <tr>\n",
       "      <th>1</th>\n",
       "      <td>DADOS DO PARTICIPANTE</td>\n",
       "      <td>NaN</td>\n",
       "    </tr>\n",
       "    <tr>\n",
       "      <th>2</th>\n",
       "      <td>NU_INSCRICAO</td>\n",
       "      <td>Numérica</td>\n",
       "    </tr>\n",
       "    <tr>\n",
       "      <th>3</th>\n",
       "      <td>NU_ANO</td>\n",
       "      <td>Numérica</td>\n",
       "    </tr>\n",
       "    <tr>\n",
       "      <th>4</th>\n",
       "      <td>TP_FAIXA_ETARIA</td>\n",
       "      <td>Numérica</td>\n",
       "    </tr>\n",
       "    <tr>\n",
       "      <th>...</th>\n",
       "      <td>...</td>\n",
       "      <td>...</td>\n",
       "    </tr>\n",
       "    <tr>\n",
       "      <th>355</th>\n",
       "      <td>3. Foi considerado treineiro o inscrito que nã...</td>\n",
       "      <td>NaN</td>\n",
       "    </tr>\n",
       "    <tr>\n",
       "      <th>356</th>\n",
       "      <td>4. As 45 primeiras posições deste campo são re...</td>\n",
       "      <td>NaN</td>\n",
       "    </tr>\n",
       "    <tr>\n",
       "      <th>357</th>\n",
       "      <td>5. As 45 primeiras posições deste campo são re...</td>\n",
       "      <td>NaN</td>\n",
       "    </tr>\n",
       "    <tr>\n",
       "      <th>358</th>\n",
       "      <td>6. As 45 primeiras posições deste campo são re...</td>\n",
       "      <td>NaN</td>\n",
       "    </tr>\n",
       "    <tr>\n",
       "      <th>359</th>\n",
       "      <td>7. As 50 primeiras posições deste campo são re...</td>\n",
       "      <td>NaN</td>\n",
       "    </tr>\n",
       "  </tbody>\n",
       "</table>\n",
       "<p>360 rows × 2 columns</p>\n",
       "</div>"
      ],
      "text/plain": [
       "                                      NOME DA VARIÁVEL      Tipo\n",
       "0                                                  NaN       NaN\n",
       "1                                DADOS DO PARTICIPANTE       NaN\n",
       "2                                         NU_INSCRICAO  Numérica\n",
       "3                                               NU_ANO  Numérica\n",
       "4                                      TP_FAIXA_ETARIA  Numérica\n",
       "..                                                 ...       ...\n",
       "355  3. Foi considerado treineiro o inscrito que nã...       NaN\n",
       "356  4. As 45 primeiras posições deste campo são re...       NaN\n",
       "357  5. As 45 primeiras posições deste campo são re...       NaN\n",
       "358  6. As 45 primeiras posições deste campo são re...       NaN\n",
       "359  7. As 50 primeiras posições deste campo são re...       NaN\n",
       "\n",
       "[360 rows x 2 columns]"
      ]
     },
     "execution_count": 63,
     "metadata": {},
     "output_type": "execute_result"
    }
   ],
   "source": [
    "metadados_raw.columns\n",
    "metadados_raw_dados = metadados_raw[[\"NOME DA VARIÁVEL\",\"Tipo\"]]\n",
    "metadados_raw_dados\n"
   ]
  },
  {
   "cell_type": "code",
   "execution_count": null,
   "metadata": {},
   "outputs": [],
   "source": []
  },
  {
   "cell_type": "code",
   "execution_count": null,
   "metadata": {},
   "outputs": [],
   "source": []
  },
  {
   "cell_type": "code",
   "execution_count": null,
   "metadata": {},
   "outputs": [],
   "source": []
  },
  {
   "cell_type": "code",
   "execution_count": null,
   "metadata": {},
   "outputs": [],
   "source": []
  },
  {
   "cell_type": "code",
   "execution_count": null,
   "metadata": {},
   "outputs": [],
   "source": []
  },
  {
   "cell_type": "code",
   "execution_count": null,
   "metadata": {},
   "outputs": [],
   "source": []
  },
  {
   "cell_type": "code",
   "execution_count": null,
   "metadata": {},
   "outputs": [],
   "source": []
  },
  {
   "cell_type": "code",
   "execution_count": null,
   "metadata": {},
   "outputs": [],
   "source": []
  }
 ],
 "metadata": {
  "kernelspec": {
   "display_name": "Python 3",
   "language": "python",
   "name": "python3"
  },
  "language_info": {
   "codemirror_mode": {
    "name": "ipython",
    "version": 3
   },
   "file_extension": ".py",
   "mimetype": "text/x-python",
   "name": "python",
   "nbconvert_exporter": "python",
   "pygments_lexer": "ipython3",
   "version": "3.12.9"
  }
 },
 "nbformat": 4,
 "nbformat_minor": 2
}
